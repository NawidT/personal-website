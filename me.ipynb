{
 "cells": [
  {
   "attachments": {},
   "cell_type": "markdown",
   "metadata": {},
   "source": [
    "# Load the Data"
   ]
  },
  {
   "cell_type": "code",
   "execution_count": 5,
   "metadata": {},
   "outputs": [
    {
     "name": "stderr",
     "output_type": "stream",
     "text": [
      "/Users/ntahmid/Documents/Coding/Work/personal-website/virtualenv/lib/python3.11/site-packages/tqdm/auto.py:21: TqdmWarning: IProgress not found. Please update jupyter and ipywidgets. See https://ipywidgets.readthedocs.io/en/stable/user_install.html\n",
      "  from .autonotebook import tqdm as notebook_tqdm\n"
     ]
    },
    {
     "name": "stdout",
     "output_type": "stream",
     "text": [
      "2315\n",
      "2\n"
     ]
    }
   ],
   "source": [
    "from pathlib import Path\n",
    "from llama_index import download_loader\n",
    "\n",
    "PyMuPDFReader = download_loader(\"PyMuPDFReader\")\n",
    "loader = PyMuPDFReader()\n",
    "documents_fast = loader.load(file_path=Path('../../../../Downloads/FormattedResume (1).pdf'), metadata=False)\n",
    "print(len(documents_fast[0].text))\n",
    "print(len(documents_fast))"
   ]
  },
  {
   "attachments": {},
   "cell_type": "markdown",
   "metadata": {},
   "source": [
    "# Chunk the Data"
   ]
  },
  {
   "cell_type": "code",
   "execution_count": 4,
   "metadata": {},
   "outputs": [
    {
     "name": "stdout",
     "output_type": "stream",
     "text": [
      "6\n",
      "page_content='deep learning to predict traffic and economic damage from disasters. Combined Kaggle\\ndatasets, trained AI model, and visualized data with ReactJS and D3.js.\\nIntentional Design Studios\\nSoftware Engineering Intern May 2022 – August 2022 Atlanta, GA\\nOptimized Firestore database retrieval times by 35% to SvelteJS frontend by scripting accurate\\ndata requirements in TypeScript.Enhanced latency on loading and landing pages by engineering\\nlocal JavaScript and CSS interval-based animations\\nIntelligent Platforms for Crowdsourcing VIP\\nUndergraduate Researcher January 2021 – May 2023 Atlanta, GA\\nImplemented Naive Bayes classification to identify and encourage valuable comments on our\\ndebate hosting app. Manufactured a TF:IDF hashtag generator using NLP SpaCy with Python' metadata={}\n"
     ]
    }
   ],
   "source": [
    "from langchain.text_splitter import RecursiveCharacterTextSplitter\n",
    "from llama_index.readers import Document\n",
    "\n",
    "text_splitter = RecursiveCharacterTextSplitter(chunk_size=800, chunk_overlap=20)\n",
    "\n",
    "# convert llama_index Document to langchain Document\n",
    "texts = []\n",
    "for doc in documents_fast:\n",
    "    wrapper = Document(text=doc.text)\n",
    "    formatted = wrapper.to_langchain_format()\n",
    "    this_text = text_splitter.split_documents([formatted])\n",
    "    for text in this_text:\n",
    "        texts.append(text)\n",
    "\n",
    "# split documents to nodes/chunks\n",
    "print(len(texts))\n",
    "print(texts[2])"
   ]
  },
  {
   "attachments": {},
   "cell_type": "markdown",
   "metadata": {},
   "source": [
    "# Manual Documents"
   ]
  },
  {
   "cell_type": "code",
   "execution_count": 8,
   "metadata": {},
   "outputs": [],
   "source": [
    "from langchain.docstore.document import Document\n",
    "\n",
    "manualdocs = [\n",
    "    # Document(page_content=\"Name: Akhter (Nawid) Tahmid Number: +14042594142 Email: atahmid3@gatech.edu, Instagram: @nawid.tahmid  LinkedIn: https://www.linkedin.com/in/akhter-tahmid/, GitHub: https://github.com/nawidt\", metadata={\"page_number\": 1}),\n",
    "    Document(page_content=\"Job: Tesla, May 2024 to Aug 2024, Software Engineering Intern in Fremont, CA, Developed API utilized by 5,000 GSMs to score suppliers regarding greenhouse gas emissions\", metadata={\"page_number\": 2}),\n",
    "    # Document(page_content=\"Job: Tektronix, Jan 2024 to May 2024, Artificial Intelligence Intern in Cleveland, OH. Tasks: Reduced 100,000 people hours searching for files with a Langchain RAG with sales/marketing data, Deployed a Flask Python API inside a Docker container on Azure App Service with CI/CD on Github Actions, Curated PowerBI dashboards utilizing DAX queries to monitor and test software adoption\", metadata={\"page_number\": 3}),\n",
    "    Document(page_content=\"Georgia Institute of Technology, August 2021 to December 2024, B.S. in Computer Science, Atlanta, GA. Concentrations (Threads): Intelligence, Information Networks, Relevant Coursework: Algorithms Honors, Data Structures, Artificial Intelligence, Objects & Design, Systems & Networks, Applied Combinatorics, Databases, Statistics, Computer Organization, Linear Algebra, Discrete Mathematics\", metadata={\"page_number\": 4}),\n",
    "    # Document(page_content=\"Job: Datasoft, ML Intern May 2023 to Aug 2023 in Dhaka, Bangladesh. Analyzed data, trained neural network models using PyTorch, Pandas, SQL, and Scikit-learn for IoT devices in fish farms. Improved livelihoods of thousands of farmers in Bangladesh. Predicted dissolved oxygen and ammonia levels, optimizing feeding rates and reducing costs by 30%. Job: ARQ Dreambox AI, Software Engineering Intern May 2023 to Present. (Remote) Atlanta, GA. Built the front-end of an innovative AI art-generated jewelry production company, utilizing React, Framer Motion, Hugging Face, and Flask to create an engaging and visually captivating user interface for showcasing personalized and stunning jewelry pieces. Job: Big Data Club. Project Lead August 2022 – May 2023 Atlanta, GA. Led team of 9 students to build web-app for plotting hurricanes and assessing economic impact. Organized SCRUM meetups, taught ReactJS and Pandas to improve skills. Used PyTorch for deep learning to predict traffic and economic damage from disasters. Combined Kaggle datasets, trained AI model, and visualized data with ReactJS and D3.js.\", metadata={\"page_number\": 5}),\n",
    "    # Document(page_content=\"Job: Intentional Design Studios, Software Engineering Intern May 2022 to August 2022 Atlanta, GA. Optimized Firestore database retrieval times by 35% to SvelteJS frontend by scripting accurate data requirements in TypeScript.Enhanced latency on loading and landing pages by engineering local JavaScript and CSS interval-based animations. Job: Intelligent Platforms for Crowdsourcing VIP. Undergraduate Researcher January 2021 – May 2023 Atlanta, GA. Implemented Naive Bayes classification to identify and encourage valuable comments on our debate hosting app. Manufactured a TF:IDF hashtag generator using NLP SpaCy with Python by expunging stop-words and scoring terms.Generated a Flask REST API backend to connect hashtag model and valuable comment classifier to React.js front end using Python\", metadata={\"page_number\": 6}),\n",
    "    # Document(page_content=\"Project: DayMaker using ReactJS, Express.js, Node.js, MongoDB, NLP, Google Cloud. Full-stack web application that automatically creates Google Calendar events from uploaded documents, using a custom-trained Named Entity Recognition model to extract dates and relevant titles. The project was awarded Winner of Best Use of Google Cloud among 400 teams at HackTX 2021. Project: Peacekeepers using Unreal Engine, C++, Blender. Led team of 5 to develop multiplayer FPS game. Managed progress with reports and GAANT charts. Implemented realistic 3D projectile motion. Optimized frame rate by 175% with culling, lighting, and LOD techniques. Automated geometry standardization to enhance productivity.\", metadata={\"page_number\": 7}),\n",
    "    # Document(page_content=\"Languages: Python, Java, JavaScript, TypeScript, C++, Solidity, HTML/CSS, Frameworks: ReactJS, React Native, Node.js, Svelte.js, Express.js, Next.js, Flask, Tailwind, Chakra UI, SpaCy, Django, Langchain, Pinecone, HuggingFace Hub, Framer, Technologies: SQL, MongoDB, Postman, Firebase, Firestore, Docker, MATLAB, LaTeX, NumPy, Scikit-learn, Matplotlib, Pandas, Git, Unreal Engine, Blender\", metadata={\"page_number\": 8}),\n",
    "    # Document(page_content=\"Love soccer, Arsenal fan since 2011. Watch MLS at Mercedes Benz Stadium. I love traveling in Atlanta, GA in Piedmont Park and Historic Fourth Ward Splash Park. I love keeping up with the newest tech news, especially in the LLM space. I’m invested in AI and ML. I have strong frontend and backend development skills. Organized person who prefers things neat and tidy. Born in Dhaka. Grew up in Qatar\", metadata={\"page_number\": 9}),\n",
    "    # Document(page_content=\"Strengths: Neat and tidy, organized, love planning and scheduling tasks. I’m a fast learner. Organization leads to faster speed in the long term. Consistent performer who stays in the top echelon for longer periods of time. Weakness: I focus heavily on organizing which leads to a lot of time spent on planning and scheduling\", metadata={\"page_number\": 10})\n",
    "]"
   ]
  },
  {
   "attachments": {},
   "cell_type": "markdown",
   "metadata": {},
   "source": [
    "# Setup Pinecone"
   ]
  },
  {
   "cell_type": "code",
   "execution_count": 2,
   "metadata": {},
   "outputs": [
    {
     "name": "stderr",
     "output_type": "stream",
     "text": [
      "/Users/ntahmid/Documents/Coding/Studying/personal-website/venv/lib/python3.9/site-packages/pinecone/data/index.py:1: TqdmWarning: IProgress not found. Please update jupyter and ipywidgets. See https://ipywidgets.readthedocs.io/en/stable/user_install.html\n",
      "  from tqdm.autonotebook import tqdm\n"
     ]
    }
   ],
   "source": [
    "from langchain.embeddings.openai import OpenAIEmbeddings\n",
    "from langchain_pinecone import PineconeVectorStore\n",
    "import os"
   ]
  },
  {
   "cell_type": "markdown",
   "metadata": {},
   "source": [
    "Initialize the Pinecone DB"
   ]
  },
  {
   "cell_type": "code",
   "execution_count": 10,
   "metadata": {},
   "outputs": [
    {
     "name": "stderr",
     "output_type": "stream",
     "text": [
      "/Users/ntahmid/Documents/Coding/Studying/personal-website/venv/lib/python3.9/site-packages/langchain_community/embeddings/openai.py:272: UserWarning: WARNING! dimensions is not default parameter.\n",
      "                    dimensions was transferred to model_kwargs.\n",
      "                    Please confirm that dimensions is what you intended.\n",
      "  warnings.warn(\n"
     ]
    },
    {
     "name": "stdout",
     "output_type": "stream",
     "text": [
      "[]\n"
     ]
    }
   ],
   "source": [
    "vectstr = PineconeVectorStore(\n",
    "    pinecone_api_key=os.getenv('PINECONE_API_KEY'),\n",
    "    embedding=OpenAIEmbeddings(\n",
    "        model='text-embedding-3-large',\n",
    "        dimensions=1536,\n",
    "        ),\n",
    "    index_name='my-site-index'\n",
    ")\n",
    "\n",
    "\n",
    "# ensure nothing is there\n",
    "\n",
    "print(await vectstr.asearch(\n",
    "    query=\"I love soccer\",\n",
    "    search_type='similarity'\n",
    "))"
   ]
  },
  {
   "cell_type": "code",
   "execution_count": 11,
   "metadata": {},
   "outputs": [
    {
     "data": {
      "text/plain": [
       "['bf0656ea-1122-4f9d-ab50-08eec8b98087',\n",
       " '152ed970-faee-4485-8692-1460f3c49327',\n",
       " '238e7084-a14c-492f-99df-1cfadabbaa35',\n",
       " 'd21d9a20-7a34-4657-b49c-5fbdf94a41c3',\n",
       " '49eb1b9d-6aab-4ae3-9dd1-7912afac11de',\n",
       " '119874c3-c566-488f-ab21-2ecb279c3181',\n",
       " '4e516f41-c549-44dc-8c6d-a53309f5d454',\n",
       " '7bd3913f-cf07-44c4-aefc-d6b638f34768',\n",
       " '5f1d72a2-e425-4cf3-946a-3fed1cbc8404',\n",
       " '165173ec-04fe-4d5d-ad62-fdb510aeb655']"
      ]
     },
     "execution_count": 11,
     "metadata": {},
     "output_type": "execute_result"
    }
   ],
   "source": [
    "vectstr.add_documents(manualdocs)"
   ]
  },
  {
   "attachments": {},
   "cell_type": "markdown",
   "metadata": {},
   "source": [
    "# Combine docs + query in Langchain"
   ]
  },
  {
   "cell_type": "code",
   "execution_count": 13,
   "metadata": {},
   "outputs": [
    {
     "name": "stderr",
     "output_type": "stream",
     "text": [
      "/Users/ntahmid/Documents/Coding/Studying/personal-website/venv/lib/python3.9/site-packages/langchain_community/embeddings/openai.py:272: UserWarning: WARNING! dimensions is not default parameter.\n",
      "                    dimensions was transferred to model_kwargs.\n",
      "                    Please confirm that dimensions is what you intended.\n",
      "  warnings.warn(\n"
     ]
    }
   ],
   "source": [
    "embed = OpenAIEmbeddings(model='text-embedding-3-large', dimensions=1536)\n",
    "vectstr = PineconeVectorStore(\n",
    "    pinecone_api_key=os.getenv('PINECONE_API_KEY'),\n",
    "    embedding=embed,\n",
    "    index_name='my-site-index'\n",
    ")"
   ]
  },
  {
   "cell_type": "code",
   "execution_count": 26,
   "metadata": {},
   "outputs": [
    {
     "data": {
      "text/plain": [
       "['Job: Tektronix, Jan 2024 to May 2024, Artificial Intelligence Intern in Cleveland, OH. Tasks: Reduced 100,000 people hours searching for files with a Langchain RAG with sales/marketing data, Deployed a Flask Python API inside a Docker container on Azure App Service with CI/CD on Github Actions, Curated PowerBI dashboards utilizing DAX queries to monitor and test software adoption',\n",
       " 'Job: Datasoft, ML Intern May 2023 to Aug 2023 in Dhaka, Bangladesh. Analyzed data, trained neural network models using PyTorch, Pandas, SQL, and Scikit-learn for IoT devices in fish farms. Improved livelihoods of thousands of farmers in Bangladesh. Predicted dissolved oxygen and ammonia levels, optimizing feeding rates and reducing costs by 30%. Job: ARQ Dreambox AI, Software Engineering Intern May 2023 to Present. (Remote) Atlanta, GA. Built the front-end of an innovative AI art-generated jewelry production company, utilizing React, Framer Motion, Hugging Face, and Flask to create an engaging and visually captivating user interface for showcasing personalized and stunning jewelry pieces. Job: Big Data Club. Project Lead August 2022 – May 2023 Atlanta, GA. Led team of 9 students to build web-app for plotting hurricanes and assessing economic impact. Organized SCRUM meetups, taught ReactJS and Pandas to improve skills. Used PyTorch for deep learning to predict traffic and economic damage from disasters. Combined Kaggle datasets, trained AI model, and visualized data with ReactJS and D3.js.',\n",
       " 'Job: Intentional Design Studios, Software Engineering Intern May 2022 to August 2022 Atlanta, GA. Optimized Firestore database retrieval times by 35% to SvelteJS frontend by scripting accurate data requirements in TypeScript.Enhanced latency on loading and landing pages by engineering local JavaScript and CSS interval-based animations. Job: Intelligent Platforms for Crowdsourcing VIP. Undergraduate Researcher January 2021 – May 2023 Atlanta, GA. Implemented Naive Bayes classification to identify and encourage valuable comments on our debate hosting app. Manufactured a TF:IDF hashtag generator using NLP SpaCy with Python by expunging stop-words and scoring terms.Generated a Flask REST API backend to connect hashtag model and valuable comment classifier to React.js front end using Python']"
      ]
     },
     "execution_count": 26,
     "metadata": {},
     "output_type": "execute_result"
    }
   ],
   "source": [
    "[d.page_content for d in vectstr.similarity_search(\"List all the jobs you held recently\", k = 3)]"
   ]
  },
  {
   "cell_type": "code",
   "execution_count": 27,
   "metadata": {},
   "outputs": [
    {
     "name": "stderr",
     "output_type": "stream",
     "text": [
      "/Users/ntahmid/Documents/Coding/Studying/personal-website/venv/lib/python3.9/site-packages/langchain_community/embeddings/openai.py:272: UserWarning: WARNING! dimensions is not default parameter.\n",
      "                    dimensions was transferred to model_kwargs.\n",
      "                    Please confirm that dimensions is what you intended.\n",
      "  warnings.warn(\n"
     ]
    },
    {
     "data": {
      "text/plain": [
       "'1. Tektronix, Artificial Intelligence Intern in Cleveland, OH, Jan 2024 to May 2024.\\n2. Datasoft, ML Intern in Dhaka, Bangladesh, May 2023 to Aug 2023.\\n3. ARQ Dreambox AI, Software Engineering Intern (Remote) in Atlanta, GA, May 2023 to Present.\\n4. Big Data Club, Project Lead in Atlanta, GA, August 2022 to May 2023.\\n5. Intentional Design Studios, Software Engineering Intern in Atlanta, GA, May 2022 to August 2022.\\n6. Intelligent Platforms for Crowdsourcing VIP, Undergraduate Researcher in Atlanta, GA, January 2021 to May 2023.'"
      ]
     },
     "execution_count": 27,
     "metadata": {},
     "output_type": "execute_result"
    }
   ],
   "source": [
    "from langchain.chat_models.openai import ChatOpenAI\n",
    "from langchain_core.prompts import PromptTemplate\n",
    "from langchain_pinecone import PineconeVectorStore\n",
    "from langchain_core.output_parsers.string import StrOutputParser\n",
    "\n",
    "llm = ChatOpenAI(temperature=0.6, openai_api_key=os.environ['OPENAI_API_KEY'])\n",
    "embed = OpenAIEmbeddings(model='text-embedding-3-large', dimensions=1536)\n",
    "vectstr = PineconeVectorStore(\n",
    "    pinecone_api_key=os.getenv('PINECONE_API_KEY'),\n",
    "    embedding=embed,\n",
    "    index_name='my-site-index'\n",
    ")\n",
    "question = \"List all the jobs you held recently\"\n",
    "context = \",\".join([d.page_content for d in vectstr.similarity_search(question, k = 3)])\n",
    "\n",
    "# creating the prompt for second chain\n",
    "prompt = PromptTemplate.from_template(\n",
    "    \"Pretend you're Akhter (Nawid) Tahmid. Speak professionally. No complicated words. Answer in few short sentences: {question}?. Here is Nawid's relevant past: \" + context\n",
    ")\n",
    "\n",
    "chain = prompt | llm | StrOutputParser()\n",
    "\n",
    "chain.invoke({\n",
    "    \"question\": question\n",
    "})"
   ]
  }
 ],
 "metadata": {
  "kernelspec": {
   "display_name": "Python 3",
   "language": "python",
   "name": "python3"
  },
  "language_info": {
   "codemirror_mode": {
    "name": "ipython",
    "version": 3
   },
   "file_extension": ".py",
   "mimetype": "text/x-python",
   "name": "python",
   "nbconvert_exporter": "python",
   "pygments_lexer": "ipython3",
   "version": "3.9.13"
  },
  "orig_nbformat": 4
 },
 "nbformat": 4,
 "nbformat_minor": 2
}
